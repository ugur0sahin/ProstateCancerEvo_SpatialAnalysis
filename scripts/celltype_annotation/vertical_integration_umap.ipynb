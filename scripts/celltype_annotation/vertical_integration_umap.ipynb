{
 "cells": [
  {
   "cell_type": "code",
   "execution_count": 18,
   "id": "61120a8f",
   "metadata": {},
   "outputs": [
    {
     "name": "stderr",
     "output_type": "stream",
     "text": [
      "version mismatch: detected: RasterFormatV02, requested: FormatV04\n"
     ]
    },
    {
     "name": "stderr",
     "output_type": "stream",
     "text": [
      "/Users/ugursahin/miniforge3/envs/ScanPy/lib/python3.11/site-packages/zarr/creation.py:610: UserWarning: ignoring keyword argument 'read_only'\n",
      "  compressor, fill_value = _kwargs_compat(compressor, fill_value, kwargs)\n",
      "/Users/ugursahin/miniforge3/envs/ScanPy/lib/python3.11/site-packages/zarr/creation.py:610: UserWarning: ignoring keyword argument 'read_only'\n",
      "  compressor, fill_value = _kwargs_compat(compressor, fill_value, kwargs)\n",
      "/Users/ugursahin/miniforge3/envs/ScanPy/lib/python3.11/site-packages/zarr/creation.py:610: UserWarning: ignoring keyword argument 'read_only'\n",
      "  compressor, fill_value = _kwargs_compat(compressor, fill_value, kwargs)\n",
      "/Users/ugursahin/miniforge3/envs/ScanPy/lib/python3.11/site-packages/zarr/creation.py:610: UserWarning: ignoring keyword argument 'read_only'\n",
      "  compressor, fill_value = _kwargs_compat(compressor, fill_value, kwargs)\n",
      "/Users/ugursahin/miniforge3/envs/ScanPy/lib/python3.11/site-packages/zarr/creation.py:610: UserWarning: ignoring keyword argument 'read_only'\n",
      "  compressor, fill_value = _kwargs_compat(compressor, fill_value, kwargs)\n",
      "/Users/ugursahin/miniforge3/envs/ScanPy/lib/python3.11/site-packages/zarr/creation.py:610: UserWarning: ignoring keyword argument 'read_only'\n",
      "  compressor, fill_value = _kwargs_compat(compressor, fill_value, kwargs)\n",
      "version mismatch: detected: RasterFormatV02, requested: FormatV04\n",
      "/Users/ugursahin/miniforge3/envs/ScanPy/lib/python3.11/site-packages/zarr/creation.py:610: UserWarning: ignoring keyword argument 'read_only'\n",
      "  compressor, fill_value = _kwargs_compat(compressor, fill_value, kwargs)\n",
      "/Users/ugursahin/miniforge3/envs/ScanPy/lib/python3.11/site-packages/zarr/creation.py:610: UserWarning: ignoring keyword argument 'read_only'\n",
      "  compressor, fill_value = _kwargs_compat(compressor, fill_value, kwargs)\n",
      "/Users/ugursahin/miniforge3/envs/ScanPy/lib/python3.11/site-packages/zarr/creation.py:610: UserWarning: ignoring keyword argument 'read_only'\n",
      "  compressor, fill_value = _kwargs_compat(compressor, fill_value, kwargs)\n",
      "/Users/ugursahin/miniforge3/envs/ScanPy/lib/python3.11/site-packages/zarr/creation.py:610: UserWarning: ignoring keyword argument 'read_only'\n",
      "  compressor, fill_value = _kwargs_compat(compressor, fill_value, kwargs)\n",
      "/Users/ugursahin/miniforge3/envs/ScanPy/lib/python3.11/site-packages/zarr/creation.py:610: UserWarning: ignoring keyword argument 'read_only'\n",
      "  compressor, fill_value = _kwargs_compat(compressor, fill_value, kwargs)\n",
      "version mismatch: detected: RasterFormatV02, requested: FormatV04\n",
      "/Users/ugursahin/miniforge3/envs/ScanPy/lib/python3.11/site-packages/zarr/creation.py:610: UserWarning: ignoring keyword argument 'read_only'\n",
      "  compressor, fill_value = _kwargs_compat(compressor, fill_value, kwargs)\n",
      "/Users/ugursahin/miniforge3/envs/ScanPy/lib/python3.11/site-packages/zarr/creation.py:610: UserWarning: ignoring keyword argument 'read_only'\n",
      "  compressor, fill_value = _kwargs_compat(compressor, fill_value, kwargs)\n",
      "/Users/ugursahin/miniforge3/envs/ScanPy/lib/python3.11/site-packages/zarr/creation.py:610: UserWarning: ignoring keyword argument 'read_only'\n",
      "  compressor, fill_value = _kwargs_compat(compressor, fill_value, kwargs)\n",
      "/Users/ugursahin/miniforge3/envs/ScanPy/lib/python3.11/site-packages/zarr/creation.py:610: UserWarning: ignoring keyword argument 'read_only'\n",
      "  compressor, fill_value = _kwargs_compat(compressor, fill_value, kwargs)\n",
      "/Users/ugursahin/miniforge3/envs/ScanPy/lib/python3.11/site-packages/zarr/creation.py:610: UserWarning: ignoring keyword argument 'read_only'\n",
      "  compressor, fill_value = _kwargs_compat(compressor, fill_value, kwargs)\n",
      "/Users/ugursahin/miniforge3/envs/ScanPy/lib/python3.11/site-packages/zarr/creation.py:610: UserWarning: ignoring keyword argument 'read_only'\n",
      "  compressor, fill_value = _kwargs_compat(compressor, fill_value, kwargs)\n",
      "/Users/ugursahin/miniforge3/envs/ScanPy/lib/python3.11/site-packages/spatialdata/_core/spatialdata.py:184: UserWarning: The table is annotating 'cell_boundaries_recovery', which is not present in the SpatialData object.\n",
      "  self.validate_table_in_spatialdata(v)\n"
     ]
    }
   ],
   "source": [
    "import spatialdata\n",
    "import sopa\n",
    "\n",
    "\n",
    "sdata = spatialdata.read_zarr(\"/Volumes/DATA_2025/Projects/RAO/dbs/Xenium_and_AdjustedPhenoCycler.V9.zarr\")\n",
    "adata_xen = sdata.tables[\"GeneTranscripts_XStock_PhenCyc_Props_Ann\"]\n",
    "adata_pheno = sdata.tables[\"Proteins_PhenoCycler_byXStock\"]\n"
   ]
  },
  {
   "cell_type": "code",
   "execution_count": 19,
   "id": "158a1400",
   "metadata": {},
   "outputs": [
    {
     "name": "stderr",
     "output_type": "stream",
     "text": [
      "/Users/ugursahin/miniforge3/envs/ScanPy/lib/python3.11/site-packages/mudata/_core/mudata.py:1531: FutureWarning: From 0.4 .update() will not pull obs/var columns from individual modalities by default anymore. Set mudata.set_options(pull_on_update=False) to adopt the new behaviour, which will become the default. Use new pull_obs/pull_var and push_obs/push_var methods for more flexibility.\n",
      "  self._update_attr(\"var\", axis=0, join_common=join_common)\n",
      "/Users/ugursahin/miniforge3/envs/ScanPy/lib/python3.11/site-packages/mudata/_core/mudata.py:1429: FutureWarning: From 0.4 .update() will not pull obs/var columns from individual modalities by default anymore. Set mudata.set_options(pull_on_update=False) to adopt the new behaviour, which will become the default. Use new pull_obs/pull_var and push_obs/push_var methods for more flexibility.\n",
      "  self._update_attr(\"obs\", axis=1, join_common=join_common)\n"
     ]
    },
    {
     "data": {
      "text/html": [
       "<pre>MuData object with n_obs × n_vars = 226546 × 5126\n",
       "  2 modalities\n",
       "    pheno:\t113273 x 25\n",
       "      obs:\t&#x27;region&#x27;, &#x27;slide&#x27;, &#x27;cell_id&#x27;, &#x27;area&#x27;, &#x27;cell_type&#x27;, &#x27;leiden&#x27;, &#x27;cell_type_manuel&#x27;\n",
       "      uns:\t&#x27;cell_type_colors&#x27;, &#x27;cell_type_manuel_colors&#x27;, &#x27;leiden&#x27;, &#x27;log1p&#x27;, &#x27;neighbors&#x27;, &#x27;pca&#x27;, &#x27;sopa_attrs&#x27;, &#x27;spatialdata_attrs&#x27;, &#x27;umap&#x27;\n",
       "      obsm:\t&#x27;X_pca&#x27;, &#x27;X_umap&#x27;, &#x27;spatial&#x27;, &#x27;z_scores&#x27;\n",
       "      varm:\t&#x27;PCs&#x27;\n",
       "      obsp:\t&#x27;connectivities&#x27;, &#x27;distances&#x27;\n",
       "    xen:\t113273 x 5101\n",
       "      obs:\t&#x27;cell_id&#x27;, &#x27;transcript_counts&#x27;, &#x27;control_probe_counts&#x27;, &#x27;genomic_control_counts&#x27;, &#x27;control_codeword_counts&#x27;, &#x27;unassigned_codeword_counts&#x27;, &#x27;deprecated_codeword_counts&#x27;, &#x27;total_counts&#x27;, &#x27;cell_area&#x27;, &#x27;nucleus_area&#x27;, &#x27;nucleus_count&#x27;, &#x27;segmentation_method&#x27;, &#x27;region&#x27;, &#x27;z_level&#x27;, &#x27;cell_labels&#x27;, &#x27;DAPI_PhenCyc&#x27;, &#x27;CD8_PhenCyc&#x27;, &#x27;CD31_PhenCyc&#x27;, &#x27;CD11c_PhenCyc&#x27;, &#x27;CD34_PhenCyc&#x27;, &#x27;CD20_PhenCyc&#x27;, &#x27;CD4_PhenCyc&#x27;, &#x27;CD21_PhenCyc&#x27;, &#x27;Ki67_PhenCyc&#x27;, &#x27;CD68_PhenCyc&#x27;, &#x27;E_cadherin_PhenCyc&#x27;, &#x27;pten_PhenCyc&#x27;, &#x27;NF-H_PhenCyc&#x27;, &#x27;FOXp3_PhenCyc&#x27;, &#x27;CD45_PhenCyc&#x27;, &#x27;TFAM_PhenCyc&#x27;, &#x27;PDL-1_PhenCyc&#x27;, &#x27;SOX2_PhenCyc&#x27;, &#x27;Vimentin_PhenCyc&#x27;, &#x27;HIF1A_PhenCyc&#x27;, &#x27;CD44_PhenCyc&#x27;, &#x27;Keratin_8_18_PhenCyc&#x27;, &#x27;aSMA_PhenCyc&#x27;, &#x27;EpCAM_PhenCyc&#x27;, &#x27;K14_PhenCyc&#x27;, &#x27;area&#x27;, &#x27;centroid-0&#x27;, &#x27;centroid-1&#x27;, &#x27;centroid_local-1&#x27;, &#x27;centroid_weighted_local-0&#x27;, &#x27;centroid_weighted_local-1&#x27;, &#x27;euler_number&#x27;, &#x27;extent&#x27;, &#x27;feret_diameter_max&#x27;, &#x27;intensity_max&#x27;, &#x27;intensity_min&#x27;, &#x27;intensity_mean&#x27;, &#x27;solidity&#x27;, &#x27;eccentricity&#x27;, &#x27;perimeter&#x27;, &#x27;equivalent_diameter_area&#x27;, &#x27;n_genes_by_counts&#x27;, &#x27;log1p_n_genes_by_counts&#x27;, &#x27;log1p_total_counts&#x27;, &#x27;pct_counts_in_top_10_genes&#x27;, &#x27;pct_counts_in_top_20_genes&#x27;, &#x27;pct_counts_in_top_50_genes&#x27;, &#x27;pct_counts_in_top_150_genes&#x27;, &#x27;cell_type&#x27;, &#x27;leiden&#x27;, &#x27;cell_type_manuel&#x27;\n",
       "      var:\t&#x27;gene_ids&#x27;, &#x27;feature_types&#x27;, &#x27;genome&#x27;, &#x27;n_cells_by_counts&#x27;, &#x27;mean_counts&#x27;, &#x27;log1p_mean_counts&#x27;, &#x27;pct_dropout_by_counts&#x27;, &#x27;total_counts&#x27;, &#x27;log1p_total_counts&#x27;, &#x27;highly_variable&#x27;, &#x27;means&#x27;, &#x27;dispersions&#x27;, &#x27;dispersions_norm&#x27;, &#x27;mean&#x27;, &#x27;std&#x27;\n",
       "      uns:\t&#x27;cell_type_colors&#x27;, &#x27;cell_type_manuel_colors&#x27;, &#x27;hvg&#x27;, &#x27;leiden&#x27;, &#x27;leiden_colors&#x27;, &#x27;log1p&#x27;, &#x27;neighbors&#x27;, &#x27;pca&#x27;, &#x27;spatialdata_attrs&#x27;, &#x27;umap&#x27;\n",
       "      obsm:\t&#x27;X_pca&#x27;, &#x27;X_umap&#x27;, &#x27;spatial&#x27;\n",
       "      varm:\t&#x27;PCs&#x27;\n",
       "      obsp:\t&#x27;connectivities&#x27;, &#x27;distances&#x27;</pre>"
      ],
      "text/plain": [
       "MuData object with n_obs × n_vars = 226546 × 5126\n",
       "  2 modalities\n",
       "    pheno:\t113273 x 25\n",
       "      obs:\t'region', 'slide', 'cell_id', 'area', 'cell_type', 'leiden', 'cell_type_manuel'\n",
       "      uns:\t'cell_type_colors', 'cell_type_manuel_colors', 'leiden', 'log1p', 'neighbors', 'pca', 'sopa_attrs', 'spatialdata_attrs', 'umap'\n",
       "      obsm:\t'X_pca', 'X_umap', 'spatial', 'z_scores'\n",
       "      varm:\t'PCs'\n",
       "      obsp:\t'connectivities', 'distances'\n",
       "    xen:\t113273 x 5101\n",
       "      obs:\t'cell_id', 'transcript_counts', 'control_probe_counts', 'genomic_control_counts', 'control_codeword_counts', 'unassigned_codeword_counts', 'deprecated_codeword_counts', 'total_counts', 'cell_area', 'nucleus_area', 'nucleus_count', 'segmentation_method', 'region', 'z_level', 'cell_labels', 'DAPI_PhenCyc', 'CD8_PhenCyc', 'CD31_PhenCyc', 'CD11c_PhenCyc', 'CD34_PhenCyc', 'CD20_PhenCyc', 'CD4_PhenCyc', 'CD21_PhenCyc', 'Ki67_PhenCyc', 'CD68_PhenCyc', 'E_cadherin_PhenCyc', 'pten_PhenCyc', 'NF-H_PhenCyc', 'FOXp3_PhenCyc', 'CD45_PhenCyc', 'TFAM_PhenCyc', 'PDL-1_PhenCyc', 'SOX2_PhenCyc', 'Vimentin_PhenCyc', 'HIF1A_PhenCyc', 'CD44_PhenCyc', 'Keratin_8_18_PhenCyc', 'aSMA_PhenCyc', 'EpCAM_PhenCyc', 'K14_PhenCyc', 'area', 'centroid-0', 'centroid-1', 'centroid_local-1', 'centroid_weighted_local-0', 'centroid_weighted_local-1', 'euler_number', 'extent', 'feret_diameter_max', 'intensity_max', 'intensity_min', 'intensity_mean', 'solidity', 'eccentricity', 'perimeter', 'equivalent_diameter_area', 'n_genes_by_counts', 'log1p_n_genes_by_counts', 'log1p_total_counts', 'pct_counts_in_top_10_genes', 'pct_counts_in_top_20_genes', 'pct_counts_in_top_50_genes', 'pct_counts_in_top_150_genes', 'cell_type', 'leiden', 'cell_type_manuel'\n",
       "      var:\t'gene_ids', 'feature_types', 'genome', 'n_cells_by_counts', 'mean_counts', 'log1p_mean_counts', 'pct_dropout_by_counts', 'total_counts', 'log1p_total_counts', 'highly_variable', 'means', 'dispersions', 'dispersions_norm', 'mean', 'std'\n",
       "      uns:\t'cell_type_colors', 'cell_type_manuel_colors', 'hvg', 'leiden', 'leiden_colors', 'log1p', 'neighbors', 'pca', 'spatialdata_attrs', 'umap'\n",
       "      obsm:\t'X_pca', 'X_umap', 'spatial'\n",
       "      varm:\t'PCs'\n",
       "      obsp:\t'connectivities', 'distances'"
      ]
     },
     "execution_count": 19,
     "metadata": {},
     "output_type": "execute_result"
    }
   ],
   "source": [
    "import muon as mu\n",
    "import scanpy as sc\n",
    "import numpy as np\n",
    "\n",
    "# 1) Wrap your two AnnData objects into a MuData container\n",
    "mdata = mu.MuData({\n",
    "    \"pheno\": adata_pheno,\n",
    "    \"xen\":   adata_xen\n",
    "})\n",
    "\n",
    "mdata\n"
   ]
  },
  {
   "cell_type": "code",
   "execution_count": 24,
   "id": "5e4ae129",
   "metadata": {},
   "outputs": [
    {
     "ename": "TypeError",
     "evalue": "mofa_model.__init__() missing 1 required positional argument: 'filepath'",
     "output_type": "error",
     "traceback": [
      "\u001b[31m---------------------------------------------------------------------------\u001b[39m",
      "\u001b[31mTypeError\u001b[39m                                 Traceback (most recent call last)",
      "\u001b[36mCell\u001b[39m\u001b[36m \u001b[39m\u001b[32mIn[24]\u001b[39m\u001b[32m, line 3\u001b[39m\n\u001b[32m      1\u001b[39m \u001b[38;5;28;01mimport\u001b[39;00m\u001b[38;5;250m \u001b[39m\u001b[34;01mmofax\u001b[39;00m\u001b[38;5;250m \u001b[39m\u001b[38;5;28;01mas\u001b[39;00m\u001b[38;5;250m \u001b[39m\u001b[34;01mmfx\u001b[39;00m\n\u001b[32m----> \u001b[39m\u001b[32m3\u001b[39m model = \u001b[43mmfx\u001b[49m\u001b[43m.\u001b[49m\u001b[43mmofa_model\u001b[49m\u001b[43m(\u001b[49m\u001b[43m)\u001b[49m\n\u001b[32m      4\u001b[39m mdata.obsm[\u001b[33m\"\u001b[39m\u001b[33mX_mofa\u001b[39m\u001b[33m\"\u001b[39m] = model.get_factors()\n\u001b[32m      6\u001b[39m sc.pp.neighbors(mdata, use_rep=\u001b[33m\"\u001b[39m\u001b[33mX_mofa\u001b[39m\u001b[33m\"\u001b[39m)\n",
      "\u001b[31mTypeError\u001b[39m: mofa_model.__init__() missing 1 required positional argument: 'filepath'"
     ]
    }
   ],
   "source": [
    "import mofax as mfx\n",
    "\n",
    "model = mfx.mofa_model()\n",
    "mdata.obsm[\"X_mofa\"] = model.get_factors()\n",
    "\n",
    "sc.pp.neighbors(mdata, use_rep=\"X_mofa\")\n",
    "sc.tl.umap(mdata)"
   ]
  },
  {
   "cell_type": "code",
   "execution_count": 17,
   "id": "4ddf37de",
   "metadata": {},
   "outputs": [
    {
     "name": "stderr",
     "output_type": "stream",
     "text": [
      "/Users/ugursahin/.local/lib/python3.11/site-packages/numpy/_core/fromnumeric.py:3860: RuntimeWarning: Mean of empty slice.\n",
      "  return _methods._mean(a, axis=axis, dtype=dtype,\n",
      "/Users/ugursahin/.local/lib/python3.11/site-packages/numpy/_core/_methods.py:137: RuntimeWarning: invalid value encountered in divide\n",
      "  ret = um.true_divide(\n"
     ]
    },
    {
     "ename": "ValueError",
     "evalue": "could not broadcast input array from shape (0,) into shape (113273,)",
     "output_type": "error",
     "traceback": [
      "\u001b[31m---------------------------------------------------------------------------\u001b[39m",
      "\u001b[31mValueError\u001b[39m                                Traceback (most recent call last)",
      "\u001b[36mCell\u001b[39m\u001b[36m \u001b[39m\u001b[32mIn[17]\u001b[39m\u001b[32m, line 2\u001b[39m\n\u001b[32m      1\u001b[39m \u001b[38;5;66;03m# 3) Now fuse them into a WNN graph by referring to those keys\u001b[39;00m\n\u001b[32m----> \u001b[39m\u001b[32m2\u001b[39m \u001b[43mmu\u001b[49m\u001b[43m.\u001b[49m\u001b[43mpp\u001b[49m\u001b[43m.\u001b[49m\u001b[43mneighbors\u001b[49m\u001b[43m(\u001b[49m\n\u001b[32m      3\u001b[39m \u001b[43m    \u001b[49m\u001b[43mmdata\u001b[49m\u001b[43m,\u001b[49m\n\u001b[32m      4\u001b[39m \u001b[43m    \u001b[49m\u001b[43madd_weights_to_modalities\u001b[49m\u001b[43m=\u001b[49m\u001b[38;5;28;43;01mTrue\u001b[39;49;00m\u001b[43m  \u001b[49m\u001b[38;5;66;43;03m# optional, if you want per-modality weights\u001b[39;49;00m\n\u001b[32m      5\u001b[39m \u001b[43m)\u001b[49m\n",
      "\u001b[36mFile \u001b[39m\u001b[32m~/miniforge3/envs/ScanPy/lib/python3.11/site-packages/muon/_core/preproc.py:491\u001b[39m, in \u001b[36mneighbors\u001b[39m\u001b[34m(mdata, n_neighbors, n_bandwidth_neighbors, n_multineighbors, neighbor_keys, metric, low_memory, key_added, weight_key, add_weights_to_modalities, eps, copy, random_state)\u001b[39m\n\u001b[32m    489\u001b[39m         currtheta = theta\n\u001b[32m    490\u001b[39m     \u001b[38;5;28;01melse\u001b[39;00m:\n\u001b[32m--> \u001b[39m\u001b[32m491\u001b[39m         \u001b[43mthetas\u001b[49m\u001b[43m[\u001b[49m\u001b[43m:\u001b[49m\u001b[43m,\u001b[49m\u001b[43m \u001b[49m\u001b[43mlasti\u001b[49m\u001b[43m]\u001b[49m = theta\n\u001b[32m    492\u001b[39m         lasti += \u001b[32m1\u001b[39m\n\u001b[32m    493\u001b[39m ratios[ratioidx, i1] = currtheta / (np.max(thetas, axis=\u001b[32m1\u001b[39m) + eps)\n",
      "\u001b[31mValueError\u001b[39m: could not broadcast input array from shape (0,) into shape (113273,)"
     ]
    }
   ],
   "source": [
    "# 3) Now fuse them into a WNN graph by referring to those keys\n",
    "mu.pp.neighbors(\n",
    "    mdata,\n",
    "    add_weights_to_modalities=True  # optional, if you want per-modality weights\n",
    ")"
   ]
  },
  {
   "cell_type": "code",
   "execution_count": 13,
   "id": "2d1c83eb",
   "metadata": {},
   "outputs": [
    {
     "name": "stderr",
     "output_type": "stream",
     "text": [
      "/Users/ugursahin/.local/lib/python3.11/site-packages/numpy/_core/fromnumeric.py:3860: RuntimeWarning: Mean of empty slice.\n",
      "  return _methods._mean(a, axis=axis, dtype=dtype,\n",
      "/Users/ugursahin/.local/lib/python3.11/site-packages/numpy/_core/_methods.py:137: RuntimeWarning: invalid value encountered in divide\n",
      "  ret = um.true_divide(\n"
     ]
    },
    {
     "ename": "ValueError",
     "evalue": "could not broadcast input array from shape (0,) into shape (113273,)",
     "output_type": "error",
     "traceback": [
      "\u001b[31m---------------------------------------------------------------------------\u001b[39m",
      "\u001b[31mValueError\u001b[39m                                Traceback (most recent call last)",
      "\u001b[36mCell\u001b[39m\u001b[36m \u001b[39m\u001b[32mIn[13]\u001b[39m\u001b[32m, line 2\u001b[39m\n\u001b[32m      1\u001b[39m \u001b[38;5;66;03m# # 4) Compute the WNN graph (stores in mdata.obsp['wnn_connectivities'])\u001b[39;00m\n\u001b[32m----> \u001b[39m\u001b[32m2\u001b[39m \u001b[43mmu\u001b[49m\u001b[43m.\u001b[49m\u001b[43mpp\u001b[49m\u001b[43m.\u001b[49m\u001b[43mneighbors\u001b[49m\u001b[43m(\u001b[49m\n\u001b[32m      3\u001b[39m \u001b[43m    \u001b[49m\u001b[43mmdata\u001b[49m\u001b[43m,\u001b[49m\n\u001b[32m      4\u001b[39m \u001b[43m    \u001b[49m\u001b[43mkey_added\u001b[49m\u001b[43m=\u001b[49m\u001b[33;43m\"\u001b[39;49m\u001b[33;43mwnn\u001b[39;49m\u001b[33;43m\"\u001b[39;49m\u001b[43m,\u001b[49m\n\u001b[32m      5\u001b[39m \u001b[43m    \u001b[49m\u001b[43madd_weights_to_modalities\u001b[49m\u001b[43m=\u001b[49m\u001b[38;5;28;43;01mTrue\u001b[39;49;00m\n\u001b[32m      6\u001b[39m \u001b[43m)\u001b[49m  \n\u001b[32m      7\u001b[39m \u001b[38;5;66;03m# # 5) UMAP + Leiden on the WNN graph\u001b[39;00m\n\u001b[32m      8\u001b[39m \u001b[38;5;66;03m# mu.tl.umap(mdata, neighbors_key=\"wnn\", random_state=42)\u001b[39;00m\n\u001b[32m      9\u001b[39m \u001b[38;5;66;03m# sc.tl.leiden(mdata, neighbors_key=\"wnn\", resolution=1.0, key_added=\"leiden_wnn\")\u001b[39;00m\n\u001b[32m   (...)\u001b[39m\u001b[32m     16\u001b[39m \u001b[38;5;66;03m#     title=\"WNN integration (Phenocycler + Xenium)\"\u001b[39;00m\n\u001b[32m     17\u001b[39m \u001b[38;5;66;03m# )\u001b[39;00m\n",
      "\u001b[36mFile \u001b[39m\u001b[32m~/miniforge3/envs/ScanPy/lib/python3.11/site-packages/muon/_core/preproc.py:491\u001b[39m, in \u001b[36mneighbors\u001b[39m\u001b[34m(mdata, n_neighbors, n_bandwidth_neighbors, n_multineighbors, neighbor_keys, metric, low_memory, key_added, weight_key, add_weights_to_modalities, eps, copy, random_state)\u001b[39m\n\u001b[32m    489\u001b[39m         currtheta = theta\n\u001b[32m    490\u001b[39m     \u001b[38;5;28;01melse\u001b[39;00m:\n\u001b[32m--> \u001b[39m\u001b[32m491\u001b[39m         \u001b[43mthetas\u001b[49m\u001b[43m[\u001b[49m\u001b[43m:\u001b[49m\u001b[43m,\u001b[49m\u001b[43m \u001b[49m\u001b[43mlasti\u001b[49m\u001b[43m]\u001b[49m = theta\n\u001b[32m    492\u001b[39m         lasti += \u001b[32m1\u001b[39m\n\u001b[32m    493\u001b[39m ratios[ratioidx, i1] = currtheta / (np.max(thetas, axis=\u001b[32m1\u001b[39m) + eps)\n",
      "\u001b[31mValueError\u001b[39m: could not broadcast input array from shape (0,) into shape (113273,)"
     ]
    }
   ],
   "source": [
    "# # 4) Compute the WNN graph (stores in mdata.obsp['wnn_connectivities'])\n",
    "mu.pp.neighbors(\n",
    "    mdata,\n",
    "    key_added=\"wnn\",\n",
    "    add_weights_to_modalities=True\n",
    ")  \n",
    "# # 5) UMAP + Leiden on the WNN graph\n",
    "# mu.tl.umap(mdata, neighbors_key=\"wnn\", random_state=42)\n",
    "# sc.tl.leiden(mdata, neighbors_key=\"wnn\", resolution=1.0, key_added=\"leiden_wnn\")\n",
    "\n",
    "# # 6) Plot the integrated embedding\n",
    "# mu.pl.umap(\n",
    "#     mdata,\n",
    "#     basis=\"X_umap_wnn\", \n",
    "#     color=\"leiden_wnn\",\n",
    "#     title=\"WNN integration (Phenocycler + Xenium)\"\n",
    "# )"
   ]
  },
  {
   "cell_type": "code",
   "execution_count": 29,
   "id": "31fa01b0",
   "metadata": {},
   "outputs": [
    {
     "name": "stdout",
     "output_type": "stream",
     "text": [
      "\n",
      "        #########################################################\n",
      "        ###           __  __  ____  ______                    ### \n",
      "        ###          |  \\/  |/ __ \\|  ____/\\    _             ### \n",
      "        ###          | \\  / | |  | | |__ /  \\ _| |_           ### \n",
      "        ###          | |\\/| | |  | |  __/ /\\ \\_   _|          ###\n",
      "        ###          | |  | | |__| | | / ____ \\|_|            ###\n",
      "        ###          |_|  |_|\\____/|_|/_/    \\_\\              ###\n",
      "        ###                                                   ### \n",
      "        ######################################################### \n",
      "       \n",
      " \n",
      "        \n",
      "Loaded view='pheno' group='group1' with N=0 samples and D=25 features...\n",
      "Loaded view='xen' group='group1' with N=0 samples and D=5101 features...\n",
      "\n",
      "\n",
      "Model options:\n",
      "- Automatic Relevance Determination prior on the factors: True\n",
      "- Automatic Relevance Determination prior on the weights: True\n",
      "- Spike-and-slab prior on the factors: False\n",
      "- Spike-and-slab prior on the weights: True\n",
      "Likelihoods:\n",
      "- View 0 (pheno): bernoulli\n",
      "- View 1 (xen): bernoulli\n",
      "\n",
      "\n"
     ]
    },
    {
     "ename": "ValueError",
     "evalue": "Found array with 0 sample(s) (shape=(0, 5126)) while a minimum of 1 is required by PCA.",
     "output_type": "error",
     "traceback": [
      "\u001b[31m---------------------------------------------------------------------------\u001b[39m",
      "\u001b[31mValueError\u001b[39m                                Traceback (most recent call last)",
      "\u001b[36mCell\u001b[39m\u001b[36m \u001b[39m\u001b[32mIn[29]\u001b[39m\u001b[32m, line 5\u001b[39m\n\u001b[32m      1\u001b[39m \u001b[38;5;66;03m# 3) train MOFA+ on both modalities\u001b[39;00m\n\u001b[32m      2\u001b[39m \u001b[38;5;66;03m#    - use_obs='intersection' to only train on cells present in BOTH assays\u001b[39;00m\n\u001b[32m      3\u001b[39m \u001b[38;5;66;03m#    - n_factors controls the number of latent factors to learn\u001b[39;00m\n\u001b[32m      4\u001b[39m \u001b[38;5;66;03m#    - you can tweak convergence_mode ('slow','medium','fast') or gpu_mode=True if you have a GPU\u001b[39;00m\n\u001b[32m----> \u001b[39m\u001b[32m5\u001b[39m \u001b[43mmu\u001b[49m\u001b[43m.\u001b[49m\u001b[43mtl\u001b[49m\u001b[43m.\u001b[49m\u001b[43mmofa\u001b[49m\u001b[43m(\u001b[49m\n\u001b[32m      6\u001b[39m \u001b[43m    \u001b[49m\u001b[43mmdata\u001b[49m\u001b[43m,\u001b[49m\n\u001b[32m      7\u001b[39m \u001b[43m    \u001b[49m\u001b[43muse_obs\u001b[49m\u001b[43m=\u001b[49m\u001b[33;43m'\u001b[39;49m\u001b[33;43mintersection\u001b[39;49m\u001b[33;43m'\u001b[39;49m\u001b[43m,\u001b[49m\u001b[43m  \u001b[49m\n\u001b[32m      8\u001b[39m \u001b[43m    \u001b[49m\u001b[43mn_factors\u001b[49m\u001b[43m=\u001b[49m\u001b[32;43m15\u001b[39;49m\u001b[43m,\u001b[49m\n\u001b[32m      9\u001b[39m \u001b[43m    \u001b[49m\u001b[43mconvergence_mode\u001b[49m\u001b[43m=\u001b[49m\u001b[33;43m'\u001b[39;49m\u001b[33;43mmedium\u001b[39;49m\u001b[33;43m'\u001b[39;49m\u001b[43m,\u001b[49m\n\u001b[32m     10\u001b[39m \u001b[43m)\u001b[49m   \n",
      "\u001b[36mFile \u001b[39m\u001b[32m~/miniforge3/envs/ScanPy/lib/python3.11/site-packages/muon/_core/tools.py:584\u001b[39m, in \u001b[36mmofa\u001b[39m\u001b[34m(data, groups_label, use_raw, use_layer, use_var, use_obs, likelihoods, n_factors, scale_views, scale_groups, center_groups, ard_weights, ard_factors, spikeslab_weights, spikeslab_factors, n_iterations, convergence_mode, use_float32, gpu_mode, gpu_device, svi_mode, svi_batch_size, svi_learning_rate, svi_forgetting_rate, svi_start_stochastic, smooth_covariate, smooth_warping, smooth_kwargs, save_parameters, save_data, save_metadata, seed, outfile, expectations, save_interrupted, verbose, quiet, copy)\u001b[39m\n\u001b[32m    568\u001b[39m     ent.set_smooth_options(\n\u001b[32m    569\u001b[39m         scale_cov=smooth_kwargs[\u001b[33m\"\u001b[39m\u001b[33mscale_cov\u001b[39m\u001b[33m\"\u001b[39m],\n\u001b[32m    570\u001b[39m         start_opt=smooth_kwargs[\u001b[33m\"\u001b[39m\u001b[33mstart_opt\u001b[39m\u001b[33m\"\u001b[39m],\n\u001b[32m   (...)\u001b[39m\u001b[32m    580\u001b[39m         frac_inducing=smooth_kwargs[\u001b[33m\"\u001b[39m\u001b[33mfrac_inducing\u001b[39m\u001b[33m\"\u001b[39m],\n\u001b[32m    581\u001b[39m     )\n\u001b[32m    583\u001b[39m logging.info(\u001b[33mf\u001b[39m\u001b[33m\"\u001b[39m\u001b[33m[\u001b[39m\u001b[38;5;132;01m{\u001b[39;00mdatetime.now().strftime(\u001b[33m'\u001b[39m\u001b[33m%\u001b[39m\u001b[33mY-\u001b[39m\u001b[33m%\u001b[39m\u001b[33mm-\u001b[39m\u001b[38;5;132;01m%d\u001b[39;00m\u001b[33m \u001b[39m\u001b[33m%\u001b[39m\u001b[33mH:\u001b[39m\u001b[33m%\u001b[39m\u001b[33mM:\u001b[39m\u001b[33m%\u001b[39m\u001b[33mS\u001b[39m\u001b[33m'\u001b[39m)\u001b[38;5;132;01m}\u001b[39;00m\u001b[33m] Building the model...\u001b[39m\u001b[33m\"\u001b[39m)\n\u001b[32m--> \u001b[39m\u001b[32m584\u001b[39m \u001b[43ment\u001b[49m\u001b[43m.\u001b[49m\u001b[43mbuild\u001b[49m\u001b[43m(\u001b[49m\u001b[43m)\u001b[49m\n\u001b[32m    585\u001b[39m logging.info(\u001b[33mf\u001b[39m\u001b[33m\"\u001b[39m\u001b[33m[\u001b[39m\u001b[38;5;132;01m{\u001b[39;00mdatetime.now().strftime(\u001b[33m'\u001b[39m\u001b[33m%\u001b[39m\u001b[33mY-\u001b[39m\u001b[33m%\u001b[39m\u001b[33mm-\u001b[39m\u001b[38;5;132;01m%d\u001b[39;00m\u001b[33m \u001b[39m\u001b[33m%\u001b[39m\u001b[33mH:\u001b[39m\u001b[33m%\u001b[39m\u001b[33mM:\u001b[39m\u001b[33m%\u001b[39m\u001b[33mS\u001b[39m\u001b[33m'\u001b[39m)\u001b[38;5;132;01m}\u001b[39;00m\u001b[33m] Running the model...\u001b[39m\u001b[33m\"\u001b[39m)\n\u001b[32m    586\u001b[39m ent.run()\n",
      "\u001b[36mFile \u001b[39m\u001b[32m~/miniforge3/envs/ScanPy/lib/python3.11/site-packages/mofapy2/run/entry_point.py:1371\u001b[39m, in \u001b[36mentry_point.build\u001b[39m\u001b[34m(self)\u001b[39m\n\u001b[32m   1363\u001b[39m \u001b[38;5;28;01melse\u001b[39;00m:\n\u001b[32m   1364\u001b[39m     tmp = buildBiofam(\n\u001b[32m   1365\u001b[39m         \u001b[38;5;28mself\u001b[39m.data,\n\u001b[32m   1366\u001b[39m         \u001b[38;5;28mself\u001b[39m.dimensionalities,\n\u001b[32m   (...)\u001b[39m\u001b[32m   1369\u001b[39m         \u001b[38;5;28mself\u001b[39m.train_opts,\n\u001b[32m   1370\u001b[39m     )\n\u001b[32m-> \u001b[39m\u001b[32m1371\u001b[39m \u001b[43mtmp\u001b[49m\u001b[43m.\u001b[49m\u001b[43mmain\u001b[49m\u001b[43m(\u001b[49m\u001b[43m)\u001b[49m\n\u001b[32m   1373\u001b[39m \u001b[38;5;66;03m# Create BayesNet class\u001b[39;00m\n\u001b[32m   1374\u001b[39m \u001b[38;5;28;01mif\u001b[39;00m \u001b[38;5;28mself\u001b[39m.train_opts[\u001b[33m\"\u001b[39m\u001b[33mstochastic\u001b[39m\u001b[33m\"\u001b[39m]:\n",
      "\u001b[36mFile \u001b[39m\u001b[32m~/miniforge3/envs/ScanPy/lib/python3.11/site-packages/mofapy2/build_model/build_model.py:56\u001b[39m, in \u001b[36mbuildBiofam.main\u001b[39m\u001b[34m(self)\u001b[39m\n\u001b[32m     47\u001b[39m \u001b[38;5;28mself\u001b[39m.init_model = initModel(\n\u001b[32m     48\u001b[39m     dim=\u001b[38;5;28mself\u001b[39m.dim,\n\u001b[32m     49\u001b[39m     data=\u001b[38;5;28mself\u001b[39m.data,\n\u001b[32m   (...)\u001b[39m\u001b[32m     52\u001b[39m     seed=\u001b[38;5;28mself\u001b[39m.train_opts[\u001b[33m\"\u001b[39m\u001b[33mseed\u001b[39m\u001b[33m\"\u001b[39m],\n\u001b[32m     53\u001b[39m )\n\u001b[32m     55\u001b[39m \u001b[38;5;66;03m# Build all nodes\u001b[39;00m\n\u001b[32m---> \u001b[39m\u001b[32m56\u001b[39m \u001b[38;5;28;43mself\u001b[39;49m\u001b[43m.\u001b[49m\u001b[43mbuild_nodes\u001b[49m\u001b[43m(\u001b[49m\u001b[43m)\u001b[49m\n\u001b[32m     58\u001b[39m \u001b[38;5;66;03m# Define markov blankets\u001b[39;00m\n\u001b[32m     59\u001b[39m \u001b[38;5;28mself\u001b[39m.createMarkovBlankets()\n",
      "\u001b[36mFile \u001b[39m\u001b[32m~/miniforge3/envs/ScanPy/lib/python3.11/site-packages/mofapy2/build_model/build_model.py:65\u001b[39m, in \u001b[36mbuildBiofam.build_nodes\u001b[39m\u001b[34m(self)\u001b[39m\n\u001b[32m     62\u001b[39m \u001b[38;5;250m\u001b[39m\u001b[33;03m\"\"\"Method to build all nodes\"\"\"\u001b[39;00m\n\u001b[32m     64\u001b[39m \u001b[38;5;66;03m# Build general nodes\u001b[39;00m\n\u001b[32m---> \u001b[39m\u001b[32m65\u001b[39m \u001b[38;5;28;43mself\u001b[39;49m\u001b[43m.\u001b[49m\u001b[43mbuild_Z\u001b[49m\u001b[43m(\u001b[49m\u001b[43m)\u001b[49m\n\u001b[32m     66\u001b[39m \u001b[38;5;28mself\u001b[39m.build_W()\n\u001b[32m     67\u001b[39m \u001b[38;5;28mself\u001b[39m.build_Tau()\n",
      "\u001b[36mFile \u001b[39m\u001b[32m~/miniforge3/envs/ScanPy/lib/python3.11/site-packages/mofapy2/build_model/build_model.py:104\u001b[39m, in \u001b[36mbuildBiofam.build_Z\u001b[39m\u001b[34m(self)\u001b[39m\n\u001b[32m     95\u001b[39m     \u001b[38;5;28mself\u001b[39m.init_model.initSZ(\n\u001b[32m     96\u001b[39m         qmean_T1=\u001b[33m\"\u001b[39m\u001b[33mpca\u001b[39m\u001b[33m\"\u001b[39m,\n\u001b[32m     97\u001b[39m         Y=\u001b[38;5;28mself\u001b[39m.data,\n\u001b[32m     98\u001b[39m         impute=\u001b[38;5;28;01mTrue\u001b[39;00m,\n\u001b[32m     99\u001b[39m         weight_views=\u001b[38;5;28mself\u001b[39m.train_opts[\u001b[33m\"\u001b[39m\u001b[33mweight_views\u001b[39m\u001b[33m\"\u001b[39m],\n\u001b[32m    100\u001b[39m     )\n\u001b[32m    101\u001b[39m \u001b[38;5;28;01melse\u001b[39;00m:\n\u001b[32m    102\u001b[39m     \u001b[38;5;66;03m# self.init_model.initZ(qmean=0)\u001b[39;00m\n\u001b[32m    103\u001b[39m     \u001b[38;5;66;03m# self.init_model.initZ(qmean=\"random\")\u001b[39;00m\n\u001b[32m--> \u001b[39m\u001b[32m104\u001b[39m     \u001b[38;5;28;43mself\u001b[39;49m\u001b[43m.\u001b[49m\u001b[43minit_model\u001b[49m\u001b[43m.\u001b[49m\u001b[43minitZ\u001b[49m\u001b[43m(\u001b[49m\n\u001b[32m    105\u001b[39m \u001b[43m        \u001b[49m\u001b[43mqmean\u001b[49m\u001b[43m=\u001b[49m\u001b[33;43m\"\u001b[39;49m\u001b[33;43mpca\u001b[39;49m\u001b[33;43m\"\u001b[39;49m\u001b[43m,\u001b[49m\n\u001b[32m    106\u001b[39m \u001b[43m        \u001b[49m\u001b[43mY\u001b[49m\u001b[43m=\u001b[49m\u001b[38;5;28;43mself\u001b[39;49m\u001b[43m.\u001b[49m\u001b[43mdata\u001b[49m\u001b[43m,\u001b[49m\n\u001b[32m    107\u001b[39m \u001b[43m        \u001b[49m\u001b[43mimpute\u001b[49m\u001b[43m=\u001b[49m\u001b[38;5;28;43;01mTrue\u001b[39;49;00m\u001b[43m,\u001b[49m\n\u001b[32m    108\u001b[39m \u001b[43m        \u001b[49m\u001b[43mweight_views\u001b[49m\u001b[43m=\u001b[49m\u001b[38;5;28;43mself\u001b[39;49m\u001b[43m.\u001b[49m\u001b[43mtrain_opts\u001b[49m\u001b[43m[\u001b[49m\u001b[33;43m\"\u001b[39;49m\u001b[33;43mweight_views\u001b[39;49m\u001b[33;43m\"\u001b[39;49m\u001b[43m]\u001b[49m\u001b[43m,\u001b[49m\n\u001b[32m    109\u001b[39m \u001b[43m    \u001b[49m\u001b[43m)\u001b[49m\n",
      "\u001b[36mFile \u001b[39m\u001b[32m~/miniforge3/envs/ScanPy/lib/python3.11/site-packages/mofapy2/build_model/init_model.py:122\u001b[39m, in \u001b[36minitModel.initZ\u001b[39m\u001b[34m(self, pmean, pvar, qmean, qvar, qE, qE2, Y, impute, weight_views)\u001b[39m\n\u001b[32m    119\u001b[39m             imp.fit(Ytmp)\n\u001b[32m    120\u001b[39m             Ytmp = imp.transform(Ytmp)\n\u001b[32m--> \u001b[39m\u001b[32m122\u001b[39m     \u001b[43mpca\u001b[49m\u001b[43m.\u001b[49m\u001b[43mfit\u001b[49m\u001b[43m(\u001b[49m\u001b[43mYtmp\u001b[49m\u001b[43m)\u001b[49m\n\u001b[32m    123\u001b[39m     qmean = pca.transform(Ytmp)\n\u001b[32m    125\u001b[39m \u001b[38;5;66;03m# scale factor values from -1 to 1 (per factor)\u001b[39;00m\n",
      "\u001b[36mFile \u001b[39m\u001b[32m~/miniforge3/envs/ScanPy/lib/python3.11/site-packages/sklearn/base.py:1473\u001b[39m, in \u001b[36m_fit_context.<locals>.decorator.<locals>.wrapper\u001b[39m\u001b[34m(estimator, *args, **kwargs)\u001b[39m\n\u001b[32m   1466\u001b[39m     estimator._validate_params()\n\u001b[32m   1468\u001b[39m \u001b[38;5;28;01mwith\u001b[39;00m config_context(\n\u001b[32m   1469\u001b[39m     skip_parameter_validation=(\n\u001b[32m   1470\u001b[39m         prefer_skip_nested_validation \u001b[38;5;129;01mor\u001b[39;00m global_skip_validation\n\u001b[32m   1471\u001b[39m     )\n\u001b[32m   1472\u001b[39m ):\n\u001b[32m-> \u001b[39m\u001b[32m1473\u001b[39m     \u001b[38;5;28;01mreturn\u001b[39;00m \u001b[43mfit_method\u001b[49m\u001b[43m(\u001b[49m\u001b[43mestimator\u001b[49m\u001b[43m,\u001b[49m\u001b[43m \u001b[49m\u001b[43m*\u001b[49m\u001b[43margs\u001b[49m\u001b[43m,\u001b[49m\u001b[43m \u001b[49m\u001b[43m*\u001b[49m\u001b[43m*\u001b[49m\u001b[43mkwargs\u001b[49m\u001b[43m)\u001b[49m\n",
      "\u001b[36mFile \u001b[39m\u001b[32m~/miniforge3/envs/ScanPy/lib/python3.11/site-packages/sklearn/decomposition/_pca.py:448\u001b[39m, in \u001b[36mPCA.fit\u001b[39m\u001b[34m(self, X, y)\u001b[39m\n\u001b[32m    430\u001b[39m \u001b[38;5;129m@_fit_context\u001b[39m(prefer_skip_nested_validation=\u001b[38;5;28;01mTrue\u001b[39;00m)\n\u001b[32m    431\u001b[39m \u001b[38;5;28;01mdef\u001b[39;00m\u001b[38;5;250m \u001b[39m\u001b[34mfit\u001b[39m(\u001b[38;5;28mself\u001b[39m, X, y=\u001b[38;5;28;01mNone\u001b[39;00m):\n\u001b[32m    432\u001b[39m \u001b[38;5;250m    \u001b[39m\u001b[33;03m\"\"\"Fit the model with X.\u001b[39;00m\n\u001b[32m    433\u001b[39m \n\u001b[32m    434\u001b[39m \u001b[33;03m    Parameters\u001b[39;00m\n\u001b[32m   (...)\u001b[39m\u001b[32m    446\u001b[39m \u001b[33;03m        Returns the instance itself.\u001b[39;00m\n\u001b[32m    447\u001b[39m \u001b[33;03m    \"\"\"\u001b[39;00m\n\u001b[32m--> \u001b[39m\u001b[32m448\u001b[39m     \u001b[38;5;28;43mself\u001b[39;49m\u001b[43m.\u001b[49m\u001b[43m_fit\u001b[49m\u001b[43m(\u001b[49m\u001b[43mX\u001b[49m\u001b[43m)\u001b[49m\n\u001b[32m    449\u001b[39m     \u001b[38;5;28;01mreturn\u001b[39;00m \u001b[38;5;28mself\u001b[39m\n",
      "\u001b[36mFile \u001b[39m\u001b[32m~/miniforge3/envs/ScanPy/lib/python3.11/site-packages/sklearn/decomposition/_pca.py:511\u001b[39m, in \u001b[36mPCA._fit\u001b[39m\u001b[34m(self, X)\u001b[39m\n\u001b[32m    501\u001b[39m     \u001b[38;5;28;01mraise\u001b[39;00m \u001b[38;5;167;01mValueError\u001b[39;00m(\n\u001b[32m    502\u001b[39m         \u001b[33m\"\u001b[39m\u001b[33mPCA with svd_solver=\u001b[39m\u001b[33m'\u001b[39m\u001b[33marpack\u001b[39m\u001b[33m'\u001b[39m\u001b[33m is not supported for Array API inputs.\u001b[39m\u001b[33m\"\u001b[39m\n\u001b[32m    503\u001b[39m     )\n\u001b[32m    505\u001b[39m \u001b[38;5;66;03m# Validate the data, without ever forcing a copy as any solver that\u001b[39;00m\n\u001b[32m    506\u001b[39m \u001b[38;5;66;03m# supports sparse input data and the `covariance_eigh` solver are\u001b[39;00m\n\u001b[32m    507\u001b[39m \u001b[38;5;66;03m# written in a way to avoid the need for any inplace modification of\u001b[39;00m\n\u001b[32m    508\u001b[39m \u001b[38;5;66;03m# the input data contrary to the other solvers.\u001b[39;00m\n\u001b[32m    509\u001b[39m \u001b[38;5;66;03m# The copy will happen\u001b[39;00m\n\u001b[32m    510\u001b[39m \u001b[38;5;66;03m# later, only if needed, once the solver negotiation below is done.\u001b[39;00m\n\u001b[32m--> \u001b[39m\u001b[32m511\u001b[39m X = \u001b[38;5;28;43mself\u001b[39;49m\u001b[43m.\u001b[49m\u001b[43m_validate_data\u001b[49m\u001b[43m(\u001b[49m\n\u001b[32m    512\u001b[39m \u001b[43m    \u001b[49m\u001b[43mX\u001b[49m\u001b[43m,\u001b[49m\n\u001b[32m    513\u001b[39m \u001b[43m    \u001b[49m\u001b[43mdtype\u001b[49m\u001b[43m=\u001b[49m\u001b[43m[\u001b[49m\u001b[43mxp\u001b[49m\u001b[43m.\u001b[49m\u001b[43mfloat64\u001b[49m\u001b[43m,\u001b[49m\u001b[43m \u001b[49m\u001b[43mxp\u001b[49m\u001b[43m.\u001b[49m\u001b[43mfloat32\u001b[49m\u001b[43m]\u001b[49m\u001b[43m,\u001b[49m\n\u001b[32m    514\u001b[39m \u001b[43m    \u001b[49m\u001b[43mforce_writeable\u001b[49m\u001b[43m=\u001b[49m\u001b[38;5;28;43;01mTrue\u001b[39;49;00m\u001b[43m,\u001b[49m\n\u001b[32m    515\u001b[39m \u001b[43m    \u001b[49m\u001b[43maccept_sparse\u001b[49m\u001b[43m=\u001b[49m\u001b[43m(\u001b[49m\u001b[33;43m\"\u001b[39;49m\u001b[33;43mcsr\u001b[39;49m\u001b[33;43m\"\u001b[39;49m\u001b[43m,\u001b[49m\u001b[43m \u001b[49m\u001b[33;43m\"\u001b[39;49m\u001b[33;43mcsc\u001b[39;49m\u001b[33;43m\"\u001b[39;49m\u001b[43m)\u001b[49m\u001b[43m,\u001b[49m\n\u001b[32m    516\u001b[39m \u001b[43m    \u001b[49m\u001b[43mensure_2d\u001b[49m\u001b[43m=\u001b[49m\u001b[38;5;28;43;01mTrue\u001b[39;49;00m\u001b[43m,\u001b[49m\n\u001b[32m    517\u001b[39m \u001b[43m    \u001b[49m\u001b[43mcopy\u001b[49m\u001b[43m=\u001b[49m\u001b[38;5;28;43;01mFalse\u001b[39;49;00m\u001b[43m,\u001b[49m\n\u001b[32m    518\u001b[39m \u001b[43m\u001b[49m\u001b[43m)\u001b[49m\n\u001b[32m    519\u001b[39m \u001b[38;5;28mself\u001b[39m._fit_svd_solver = \u001b[38;5;28mself\u001b[39m.svd_solver\n\u001b[32m    520\u001b[39m \u001b[38;5;28;01mif\u001b[39;00m \u001b[38;5;28mself\u001b[39m._fit_svd_solver == \u001b[33m\"\u001b[39m\u001b[33mauto\u001b[39m\u001b[33m\"\u001b[39m \u001b[38;5;129;01mand\u001b[39;00m issparse(X):\n",
      "\u001b[36mFile \u001b[39m\u001b[32m~/miniforge3/envs/ScanPy/lib/python3.11/site-packages/sklearn/base.py:633\u001b[39m, in \u001b[36mBaseEstimator._validate_data\u001b[39m\u001b[34m(self, X, y, reset, validate_separately, cast_to_ndarray, **check_params)\u001b[39m\n\u001b[32m    631\u001b[39m         out = X, y\n\u001b[32m    632\u001b[39m \u001b[38;5;28;01melif\u001b[39;00m \u001b[38;5;129;01mnot\u001b[39;00m no_val_X \u001b[38;5;129;01mand\u001b[39;00m no_val_y:\n\u001b[32m--> \u001b[39m\u001b[32m633\u001b[39m     out = \u001b[43mcheck_array\u001b[49m\u001b[43m(\u001b[49m\u001b[43mX\u001b[49m\u001b[43m,\u001b[49m\u001b[43m \u001b[49m\u001b[43minput_name\u001b[49m\u001b[43m=\u001b[49m\u001b[33;43m\"\u001b[39;49m\u001b[33;43mX\u001b[39;49m\u001b[33;43m\"\u001b[39;49m\u001b[43m,\u001b[49m\u001b[43m \u001b[49m\u001b[43m*\u001b[49m\u001b[43m*\u001b[49m\u001b[43mcheck_params\u001b[49m\u001b[43m)\u001b[49m\n\u001b[32m    634\u001b[39m \u001b[38;5;28;01melif\u001b[39;00m no_val_X \u001b[38;5;129;01mand\u001b[39;00m \u001b[38;5;129;01mnot\u001b[39;00m no_val_y:\n\u001b[32m    635\u001b[39m     out = _check_y(y, **check_params)\n",
      "\u001b[36mFile \u001b[39m\u001b[32m~/miniforge3/envs/ScanPy/lib/python3.11/site-packages/sklearn/utils/validation.py:1087\u001b[39m, in \u001b[36mcheck_array\u001b[39m\u001b[34m(array, accept_sparse, accept_large_sparse, dtype, order, copy, force_writeable, force_all_finite, ensure_2d, allow_nd, ensure_min_samples, ensure_min_features, estimator, input_name)\u001b[39m\n\u001b[32m   1085\u001b[39m     n_samples = _num_samples(array)\n\u001b[32m   1086\u001b[39m     \u001b[38;5;28;01mif\u001b[39;00m n_samples < ensure_min_samples:\n\u001b[32m-> \u001b[39m\u001b[32m1087\u001b[39m         \u001b[38;5;28;01mraise\u001b[39;00m \u001b[38;5;167;01mValueError\u001b[39;00m(\n\u001b[32m   1088\u001b[39m             \u001b[33m\"\u001b[39m\u001b[33mFound array with \u001b[39m\u001b[38;5;132;01m%d\u001b[39;00m\u001b[33m sample(s) (shape=\u001b[39m\u001b[38;5;132;01m%s\u001b[39;00m\u001b[33m) while a\u001b[39m\u001b[33m\"\u001b[39m\n\u001b[32m   1089\u001b[39m             \u001b[33m\"\u001b[39m\u001b[33m minimum of \u001b[39m\u001b[38;5;132;01m%d\u001b[39;00m\u001b[33m is required\u001b[39m\u001b[38;5;132;01m%s\u001b[39;00m\u001b[33m.\u001b[39m\u001b[33m\"\u001b[39m\n\u001b[32m   1090\u001b[39m             % (n_samples, array.shape, ensure_min_samples, context)\n\u001b[32m   1091\u001b[39m         )\n\u001b[32m   1093\u001b[39m \u001b[38;5;28;01mif\u001b[39;00m ensure_min_features > \u001b[32m0\u001b[39m \u001b[38;5;129;01mand\u001b[39;00m array.ndim == \u001b[32m2\u001b[39m:\n\u001b[32m   1094\u001b[39m     n_features = array.shape[\u001b[32m1\u001b[39m]\n",
      "\u001b[31mValueError\u001b[39m: Found array with 0 sample(s) (shape=(0, 5126)) while a minimum of 1 is required by PCA."
     ]
    }
   ],
   "source": [
    "# 3) train MOFA+ on both modalities\n",
    "#    - use_obs='intersection' to only train on cells present in BOTH assays\n",
    "#    - n_factors controls the number of latent factors to learn\n",
    "#    - you can tweak convergence_mode ('slow','medium','fast') or gpu_mode=True if you have a GPU\n",
    "mu.tl.mofa(\n",
    "    mdata,\n",
    "    use_obs='intersection',  \n",
    "    n_factors=15,\n",
    "    convergence_mode='medium',\n",
    ")   \n"
   ]
  },
  {
   "cell_type": "code",
   "execution_count": 28,
   "id": "25956fad",
   "metadata": {},
   "outputs": [
    {
     "name": "stdout",
     "output_type": "stream",
     "text": [
      "Collecting mofapy2\n",
      "  Downloading mofapy2-0.7.2-py3-none-any.whl.metadata (1.8 kB)\n",
      "Requirement already satisfied: anndata>0.8 in /Users/ugursahin/miniforge3/envs/ScanPy/lib/python3.11/site-packages (from mofapy2) (0.11.4)\n",
      "Requirement already satisfied: h5py<4,>=3 in /Users/ugursahin/miniforge3/envs/ScanPy/lib/python3.11/site-packages (from mofapy2) (3.13.0)\n",
      "Requirement already satisfied: numpy in /Users/ugursahin/.local/lib/python3.11/site-packages (from mofapy2) (2.2.5)\n",
      "Requirement already satisfied: pandas in /Users/ugursahin/miniforge3/envs/ScanPy/lib/python3.11/site-packages (from mofapy2) (2.2.3)\n",
      "Requirement already satisfied: scikit-learn<2,>=1 in /Users/ugursahin/miniforge3/envs/ScanPy/lib/python3.11/site-packages (from mofapy2) (1.5.2)\n",
      "Requirement already satisfied: scipy<2,>=1 in /Users/ugursahin/miniforge3/envs/ScanPy/lib/python3.11/site-packages (from mofapy2) (1.15.2)\n",
      "Requirement already satisfied: joblib>=1.2.0 in /Users/ugursahin/miniforge3/envs/ScanPy/lib/python3.11/site-packages (from scikit-learn<2,>=1->mofapy2) (1.5.0)\n",
      "Requirement already satisfied: threadpoolctl>=3.1.0 in /Users/ugursahin/miniforge3/envs/ScanPy/lib/python3.11/site-packages (from scikit-learn<2,>=1->mofapy2) (3.6.0)\n",
      "Requirement already satisfied: array-api-compat!=1.5,>1.4 in /Users/ugursahin/miniforge3/envs/ScanPy/lib/python3.11/site-packages (from anndata>0.8->mofapy2) (1.11.2)\n",
      "Requirement already satisfied: natsort in /Users/ugursahin/miniforge3/envs/ScanPy/lib/python3.11/site-packages (from anndata>0.8->mofapy2) (8.4.0)\n",
      "Requirement already satisfied: packaging>=24.2 in /Users/ugursahin/miniforge3/envs/ScanPy/lib/python3.11/site-packages (from anndata>0.8->mofapy2) (25.0)\n",
      "Requirement already satisfied: python-dateutil>=2.8.2 in /Users/ugursahin/miniforge3/envs/ScanPy/lib/python3.11/site-packages (from pandas->mofapy2) (2.9.0.post0)\n",
      "Requirement already satisfied: pytz>=2020.1 in /Users/ugursahin/miniforge3/envs/ScanPy/lib/python3.11/site-packages (from pandas->mofapy2) (2025.2)\n",
      "Requirement already satisfied: tzdata>=2022.7 in /Users/ugursahin/miniforge3/envs/ScanPy/lib/python3.11/site-packages (from pandas->mofapy2) (2025.2)\n",
      "Requirement already satisfied: six>=1.5 in /Users/ugursahin/miniforge3/envs/ScanPy/lib/python3.11/site-packages (from python-dateutil>=2.8.2->pandas->mofapy2) (1.17.0)\n",
      "Downloading mofapy2-0.7.2-py3-none-any.whl (1.0 MB)\n",
      "\u001b[2K   \u001b[90m━━━━━━━━━━━━━━━━━━━━━━━━━━━━━━━━━━━━━━━━\u001b[0m \u001b[32m1.0/1.0 MB\u001b[0m \u001b[31m23.9 MB/s\u001b[0m eta \u001b[36m0:00:00\u001b[0m\n",
      "\u001b[?25hInstalling collected packages: mofapy2\n",
      "Successfully installed mofapy2-0.7.2\n"
     ]
    }
   ],
   "source": [
    "!pip install mofapy2"
   ]
  },
  {
   "cell_type": "code",
   "execution_count": null,
   "id": "c7218c64",
   "metadata": {},
   "outputs": [],
   "source": []
  }
 ],
 "metadata": {
  "kernelspec": {
   "display_name": "ScanPy",
   "language": "python",
   "name": "python3"
  },
  "language_info": {
   "codemirror_mode": {
    "name": "ipython",
    "version": 3
   },
   "file_extension": ".py",
   "mimetype": "text/x-python",
   "name": "python",
   "nbconvert_exporter": "python",
   "pygments_lexer": "ipython3",
   "version": "3.11.12"
  }
 },
 "nbformat": 4,
 "nbformat_minor": 5
}
